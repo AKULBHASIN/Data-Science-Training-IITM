{
 "cells": [
  {
   "cell_type": "markdown",
   "id": "edbc0ad9-d28c-4f84-ac95-eae25c83c096",
   "metadata": {},
   "source": [
    "# Inheritance"
   ]
  },
  {
   "cell_type": "code",
   "execution_count": 3,
   "id": "47620901-bb07-4097-9a19-e5a75c021c84",
   "metadata": {},
   "outputs": [],
   "source": [
    "# single Inhertitance"
   ]
  },
  {
   "cell_type": "code",
   "execution_count": 7,
   "id": "663b6836-d78a-47e9-a141-53d0194cc049",
   "metadata": {},
   "outputs": [],
   "source": [
    "class BMW: # Parent Class,Main class,Super Class, Base Class \n",
    "\n",
    "    def super_turbo_engine(self):\n",
    "        print('super_turbo_engine Fast Speed')\n",
    "\n",
    "class Audi(BMW): # Child Class, Sub Class \n",
    "\n",
    "    def auto_pilot(self):\n",
    "        print('Can run on Auto Pilot Mude!!')\n",
    "        "
   ]
  },
  {
   "cell_type": "code",
   "execution_count": 8,
   "id": "75980ce8-e957-447c-9318-ceb650a0c331",
   "metadata": {},
   "outputs": [],
   "source": [
    "audi_r8 = Audi()"
   ]
  },
  {
   "cell_type": "code",
   "execution_count": 11,
   "id": "30f37fe3-7a04-4bb5-ba98-8b9abf5d95f1",
   "metadata": {},
   "outputs": [
    {
     "name": "stdout",
     "output_type": "stream",
     "text": [
      "super_turbo_engine Fast Speed\n"
     ]
    }
   ],
   "source": [
    "audi_r8.super_turbo_engine()"
   ]
  },
  {
   "cell_type": "code",
   "execution_count": 12,
   "id": "12990be9-345a-4df1-b9d9-fb19e6b1c1a6",
   "metadata": {},
   "outputs": [],
   "source": [
    "# Multiple Inheritance "
   ]
  },
  {
   "cell_type": "code",
   "execution_count": 39,
   "id": "967d999b-5bb1-42be-a77e-b88ec27d5df7",
   "metadata": {},
   "outputs": [],
   "source": [
    "class Daily_Object:\n",
    "    def phone_case(self):\n",
    "      print('Strong Build Phone Case ')\n",
    "\n",
    "class JBL:\n",
    "    def sonic_speaker(self):\n",
    "        print('High Quality Sound Speaker')\n",
    "\n",
    "class Samsung:\n",
    "    def screen_display(self):\n",
    "        print('4K HD Display')\n",
    "\n",
    "class Nvidia:\n",
    "    def Processor(self):\n",
    "        print('Fast Motherboard')\n",
    "\n",
    "class Sony:\n",
    "    def Camera(self):\n",
    "        print('4k Camera')\n",
    "\n",
    "class Lava:\n",
    "    def charger(self):\n",
    "        print('Superfast Charger From LAVA')\n",
    "\n",
    "class One_plus:\n",
    "    def charger(self):\n",
    "        print('Original Superfast Charger from ONEPLUS')\n",
    "\n",
    "\n",
    "class Mobile(Daily_Object,JBL,Nvidia,Samsung,Sony,One_plus,Lava):\n",
    "    def __init__(self):\n",
    "        print('Phone Object Created Successfiully!!')\n",
    "\n",
    "    def charger(self):\n",
    "        print('Phone Object Created Successfully')"
   ]
  },
  {
   "cell_type": "code",
   "execution_count": 40,
   "id": "016cee66-29e3-46c5-a36e-d8a2e65ac081",
   "metadata": {},
   "outputs": [
    {
     "name": "stdout",
     "output_type": "stream",
     "text": [
      "Phone Object Created Successfiully!!\n"
     ]
    }
   ],
   "source": [
    "nothing = Mobile()"
   ]
  },
  {
   "cell_type": "code",
   "execution_count": 41,
   "id": "f70c2c3a-91c3-4d72-9173-634988b1181c",
   "metadata": {},
   "outputs": [
    {
     "name": "stdout",
     "output_type": "stream",
     "text": [
      "4k Camera\n"
     ]
    }
   ],
   "source": [
    "nothing.Camera()"
   ]
  },
  {
   "cell_type": "code",
   "execution_count": 42,
   "id": "52d0d7d0-c7c4-4afc-bf10-3247e44fcefd",
   "metadata": {},
   "outputs": [
    {
     "name": "stdout",
     "output_type": "stream",
     "text": [
      "Phone Object Created Successfully\n"
     ]
    }
   ],
   "source": [
    "nothing.charger()"
   ]
  },
  {
   "cell_type": "code",
   "execution_count": 43,
   "id": "b78eac07-b179-40a0-8621-1d9cb6c9f91a",
   "metadata": {},
   "outputs": [
    {
     "name": "stdout",
     "output_type": "stream",
     "text": [
      "22\n"
     ]
    }
   ],
   "source": [
    "a=56\n",
    "a=22\n",
    "print(a)"
   ]
  },
  {
   "cell_type": "code",
   "execution_count": 44,
   "id": "9884e1c4-03df-443a-9039-fe1d989525ba",
   "metadata": {},
   "outputs": [],
   "source": [
    "# Multilevel Hierarchy"
   ]
  },
  {
   "cell_type": "code",
   "execution_count": 54,
   "id": "80bd64a8-21e9-4cba-b9fd-61e1cd8972da",
   "metadata": {},
   "outputs": [],
   "source": [
    "class GrandFather: #Superclass \n",
    "    def land_property(self):\n",
    "        print ('Land Property')\n",
    "class Father(GrandFather):  #SubClass \n",
    "    def bank_balance(self):\n",
    "        print ('Big Money Player, Huge Bank Balance')\n",
    "class Son(Father):\n",
    "    def ploitical_player(self): #Subclass\n",
    "        print('Political Power')\n",
    "class GrandSon(Son): #Subclass\n",
    "    def mind(self):\n",
    "        print('Mind For Self Study!!') \n",
    "class Friend(GrandSon): #Subclass\n",
    "    def __init__(self):\n",
    "        print('Nothing!!')"
   ]
  },
  {
   "cell_type": "code",
   "execution_count": 55,
   "id": "c125a58c-c40a-4659-9796-f3714fc0f86d",
   "metadata": {},
   "outputs": [
    {
     "name": "stdout",
     "output_type": "stream",
     "text": [
      "Nothing!!\n"
     ]
    }
   ],
   "source": [
    "Aman = Friend()"
   ]
  },
  {
   "cell_type": "code",
   "execution_count": 56,
   "id": "4ff13263-a923-4c87-9038-10d07625542d",
   "metadata": {},
   "outputs": [
    {
     "name": "stdout",
     "output_type": "stream",
     "text": [
      "Land Property\n"
     ]
    }
   ],
   "source": [
    "Aman.land_property()"
   ]
  },
  {
   "cell_type": "code",
   "execution_count": 57,
   "id": "64f60381-29d9-4d0b-bf7c-152db9435545",
   "metadata": {},
   "outputs": [
    {
     "name": "stdout",
     "output_type": "stream",
     "text": [
      "Nothing!!\n"
     ]
    }
   ],
   "source": [
    "karan = Friend()"
   ]
  },
  {
   "cell_type": "code",
   "execution_count": 59,
   "id": "293a3977-7fee-449a-9a9a-f90e720eda21",
   "metadata": {},
   "outputs": [
    {
     "name": "stdout",
     "output_type": "stream",
     "text": [
      "Mind For Self Study!!\n"
     ]
    }
   ],
   "source": [
    "karan.mind()"
   ]
  },
  {
   "cell_type": "code",
   "execution_count": 60,
   "id": "5036e78e-28c7-4072-9816-f9b7f56b16e1",
   "metadata": {},
   "outputs": [],
   "source": [
    "# Hybrid Inheritance "
   ]
  },
  {
   "cell_type": "code",
   "execution_count": 63,
   "id": "190859d5-a983-4494-b490-999a35cd0ff8",
   "metadata": {},
   "outputs": [],
   "source": [
    "class Hybrid_class(Mobile,Friend,Audi): \n",
    "    def __init__(self):\n",
    "        print('This is a Hybrid Class')\n",
    "\n",
    "    def info(self):\n",
    "        print('It can call any methods!!')"
   ]
  },
  {
   "cell_type": "code",
   "execution_count": 64,
   "id": "89f8dc3d-4420-45cf-9644-96a23eba972c",
   "metadata": {},
   "outputs": [
    {
     "name": "stdout",
     "output_type": "stream",
     "text": [
      "This is a Hybrid Class\n"
     ]
    }
   ],
   "source": [
    "ob = Hybrid_class()"
   ]
  },
  {
   "cell_type": "code",
   "execution_count": 65,
   "id": "6e566753-eea6-42a3-b5d1-1e5fcc4ee396",
   "metadata": {},
   "outputs": [
    {
     "name": "stdout",
     "output_type": "stream",
     "text": [
      "It can call any methods!!\n"
     ]
    }
   ],
   "source": [
    "ob.info()"
   ]
  },
  {
   "cell_type": "code",
   "execution_count": 70,
   "id": "2f77216c-1c43-4d23-9351-06d1778f6949",
   "metadata": {},
   "outputs": [],
   "source": [
    "class UGC:\n",
    "    def __init__(self):\n",
    "        print('Grant Permission')\n",
    "    def college_approved(self):\n",
    "        print('College Has Been Approved')\n",
    "class DU(UGC):\n",
    "    def multiple_college(self):\n",
    "        print('List of College!!')\n",
    "class IP(UGC):\n",
    "    def multiple_college(self):\n",
    "        print('List of College!!')\n",
    "class DTU(UGC):\n",
    "    def multiple_college(self):\n",
    "        print('List of College!!')\n",
    "class BHU(UGC):\n",
    "    def multiple_college(self):\n",
    "        print('List of College!!')(UGC)"
   ]
  },
  {
   "cell_type": "code",
   "execution_count": 71,
   "id": "959d29c7-ea75-4ce6-9e52-7d07e193f659",
   "metadata": {},
   "outputs": [
    {
     "name": "stdout",
     "output_type": "stream",
     "text": [
      "Grant Permission\n"
     ]
    }
   ],
   "source": [
    "College = UGC()"
   ]
  },
  {
   "cell_type": "code",
   "execution_count": 73,
   "id": "dcb4cb68-4e48-4f0c-857c-0c6596effc72",
   "metadata": {},
   "outputs": [
    {
     "name": "stdout",
     "output_type": "stream",
     "text": [
      "College Has Been Approved\n"
     ]
    }
   ],
   "source": [
    "College.college_approved()"
   ]
  },
  {
   "cell_type": "code",
   "execution_count": 74,
   "id": "aee427c2-9270-4221-b10d-5004ef881673",
   "metadata": {},
   "outputs": [],
   "source": [
    "# Polymorphism "
   ]
  },
  {
   "cell_type": "code",
   "execution_count": 75,
   "id": "7ba4ddb6-ec33-4d6a-a820-ce21287f460c",
   "metadata": {},
   "outputs": [
    {
     "data": {
      "text/plain": [
       "5"
      ]
     },
     "execution_count": 75,
     "metadata": {},
     "output_type": "execute_result"
    }
   ],
   "source": [
    "a ='harry'\n",
    "len(a)"
   ]
  },
  {
   "cell_type": "code",
   "execution_count": 76,
   "id": "21c7445c-7081-472f-9544-094710d366ec",
   "metadata": {},
   "outputs": [
    {
     "data": {
      "text/plain": [
       "2"
      ]
     },
     "execution_count": 76,
     "metadata": {},
     "output_type": "execute_result"
    }
   ],
   "source": [
    "a = ['harry','jatin']\n",
    "len(a)"
   ]
  },
  {
   "cell_type": "code",
   "execution_count": 83,
   "id": "9ea431ee-d15d-4345-ae66-9c688a599184",
   "metadata": {},
   "outputs": [
    {
     "name": "stdout",
     "output_type": "stream",
     "text": [
      "F1 Car Speed:  Max speed 200 km/hr\n",
      "F1 Car Speed:  Max speed 250 km/hr\n",
      "F1 Car Speed:  Max speed 300 km/hr\n"
     ]
    }
   ],
   "source": [
    "class Car:\n",
    "    def speed(self):\n",
    "        return('Max speed 200 km/hr')\n",
    "\n",
    "    def auto_pilot(self):\n",
    "        return('It supports Auto Pilot Mode!!')\n",
    "    def info(self):\n",
    "        return('This is just a car object')\n",
    "class BMW(Car):\n",
    "    def speed(self):\n",
    "        return('Max speed 250 km/hr')\n",
    "    def info (self):\n",
    "        return('A BMW car object')\n",
    "class Audi(Car):\n",
    "    def speed(self):\n",
    "        return('Max speed 300 km/hr')\n",
    "    def info(self):\n",
    "        return('Audi car')\n",
    "\n",
    "\n",
    "for i in [Car,BMW,Audi]:\n",
    "    f1 = i()\n",
    "    print('F1 Car Speed: ',f1.speed())"
   ]
  },
  {
   "cell_type": "code",
   "execution_count": 86,
   "id": "a0b81d2b-6e9e-4d11-8de9-6b617b9dea78",
   "metadata": {},
   "outputs": [
    {
     "name": "stdout",
     "output_type": "stream",
     "text": [
      "Hello Anupam,How are you ??\n",
      "Your address is Rohtak\n"
     ]
    }
   ],
   "source": [
    "class IITM:\n",
    "\n",
    "    def intro(self):\n",
    "        print('Hello Candidates!!')\n",
    "\n",
    "    def intro(self,name):\n",
    "        print(f'Hello {name},How are you ??')\n",
    "\n",
    "    def intro(self,name,address):\n",
    "        print(f'Hello {name},How are you ??')\n",
    "        print(f'Your address is {address}')\n",
    "    \n",
    "a = IITM()\n",
    "\n",
    "a.intro('Anupam','Rohtak')"
   ]
  },
  {
   "cell_type": "code",
   "execution_count": 100,
   "id": "9b7b041a-773e-4de8-ac60-43509f0f564a",
   "metadata": {},
   "outputs": [],
   "source": [
    "class IITM:\n",
    "\n",
    "    def intro(self,name = None,address = None):\n",
    "        if (name == None) and (address == None):\n",
    "            print('Hello Candidates!!')\n",
    "\n",
    "        elif (name != None) and (address != None):\n",
    "            print(f'Hello {name},How are you ??')\n",
    "            print(f'Your address is {address}')\n",
    "            \n",
    "        elif (name != None):\n",
    "            print(f'Hello {name},How are you ??')\n",
    "\n",
    "        #elif (name != None) and (address != None):\n",
    "            #print(f'Hello {name},How are you ??')\n",
    "            #print(f'Your address is {address}')\n",
    "\n",
    "        else: \n",
    "            print('Hello Buddy!!')"
   ]
  },
  {
   "cell_type": "code",
   "execution_count": 101,
   "id": "b253c42a-b083-4137-a249-424364d869d8",
   "metadata": {},
   "outputs": [],
   "source": [
    "iitm = IITM()"
   ]
  },
  {
   "cell_type": "code",
   "execution_count": 102,
   "id": "09118c57-a120-42de-a432-6e80c137c33b",
   "metadata": {},
   "outputs": [
    {
     "name": "stdout",
     "output_type": "stream",
     "text": [
      "Hello Candidates!!\n"
     ]
    }
   ],
   "source": [
    "iitm.intro()"
   ]
  },
  {
   "cell_type": "code",
   "execution_count": 99,
   "id": "a8081026-82d5-4377-b850-c843080f6723",
   "metadata": {},
   "outputs": [
    {
     "name": "stdout",
     "output_type": "stream",
     "text": [
      "Hello Anupam,How are you ??\n",
      "Your address is Rohtak\n"
     ]
    }
   ],
   "source": [
    "iitm.intro('Anupam','Rohtak')"
   ]
  },
  {
   "cell_type": "code",
   "execution_count": 105,
   "id": "87ea93e1-e0f3-493b-826e-119e38cc85a0",
   "metadata": {},
   "outputs": [],
   "source": [
    "class IITM:\n",
    "\n",
    "    def intro(self,name = None,address = None):\n",
    "        if (name == None) and (address == None):\n",
    "            print('Hello Candidates!!')\n",
    "\n",
    "        elif (name != None) and (address == None):\n",
    "            print(f'Hello {name},How are you ??')\n",
    "\n",
    "        elif (name != None) and (address != None):\n",
    "            print(f'Hello {name},How are you ??')\n",
    "            print(f'Your address is {address}')\n",
    "\n",
    "        else: \n",
    "            print('Hello Buddy!!')"
   ]
  },
  {
   "cell_type": "code",
   "execution_count": 106,
   "id": "68bc214c-e3fa-47ef-8008-269a11ef57f1",
   "metadata": {},
   "outputs": [],
   "source": [
    "i = IITM()"
   ]
  },
  {
   "cell_type": "code",
   "execution_count": 108,
   "id": "51c0c2a5-0570-466b-b49c-e937992ea767",
   "metadata": {},
   "outputs": [
    {
     "name": "stdout",
     "output_type": "stream",
     "text": [
      "Hello ANUPAM,How are you ??\n",
      "Your address is ROHTAK\n"
     ]
    }
   ],
   "source": [
    "i.intro('ANUPAM','ROHTAK')"
   ]
  },
  {
   "cell_type": "code",
   "execution_count": 109,
   "id": "1806b5ec-96da-45b4-91ba-2eae0b0d43dc",
   "metadata": {},
   "outputs": [],
   "source": [
    "# Abstraction "
   ]
  },
  {
   "cell_type": "code",
   "execution_count": 111,
   "id": "f5643dea-b8c4-4f75-ac2e-64734f03121f",
   "metadata": {},
   "outputs": [
    {
     "ename": "TypeError",
     "evalue": "Can't instantiate abstract class Website without an implementation for abstract methods 'login', 'logout'",
     "output_type": "error",
     "traceback": [
      "\u001b[1;31m---------------------------------------------------------------------------\u001b[0m",
      "\u001b[1;31mTypeError\u001b[0m                                 Traceback (most recent call last)",
      "Cell \u001b[1;32mIn[111], line 13\u001b[0m\n\u001b[0;32m      9\u001b[0m     \u001b[38;5;129m@abstractmethod\u001b[39m\n\u001b[0;32m     10\u001b[0m     \u001b[38;5;28;01mdef\u001b[39;00m\u001b[38;5;250m \u001b[39m\u001b[38;5;21mlogout\u001b[39m(\u001b[38;5;28mself\u001b[39m):\n\u001b[0;32m     11\u001b[0m         \u001b[38;5;28mprint\u001b[39m(\u001b[38;5;124m'\u001b[39m\u001b[38;5;124mA logout method\u001b[39m\u001b[38;5;124m'\u001b[39m)\n\u001b[1;32m---> 13\u001b[0m asus \u001b[38;5;241m=\u001b[39m Website()\n\u001b[0;32m     14\u001b[0m \u001b[38;5;28mprint\u001b[39m(\u001b[38;5;124m'\u001b[39m\u001b[38;5;124mDone\u001b[39m\u001b[38;5;124m'\u001b[39m)\n",
      "\u001b[1;31mTypeError\u001b[0m: Can't instantiate abstract class Website without an implementation for abstract methods 'login', 'logout'"
     ]
    }
   ],
   "source": [
    "from abc import ABC, abstractmethod \n",
    "\n",
    "class Website(ABC):\n",
    "\n",
    "    @abstractmethod\n",
    "    def login(self):\n",
    "        print('This is a Login method')\n",
    "\n",
    "    @abstractmethod\n",
    "    def logout(self):\n",
    "        print('A logout method')\n",
    "\n",
    "asus = Website()\n",
    "print('Done')a"
   ]
  },
  {
   "cell_type": "code",
   "execution_count": 113,
   "id": "01091ebd-a3b4-41fc-87c2-59216902228a",
   "metadata": {},
   "outputs": [],
   "source": [
    "class Nakul(Website):\n",
    "\n",
    "    def signup(self):\n",
    "        print('user can Signup!!')\n",
    "\n",
    "    def login(self):\n",
    "        print('This is a Login Form')\n",
    "\n",
    "    def logout(self):\n",
    "        print('User can logout')\n",
    "google = Nakul()\n",
    "    "
   ]
  },
  {
   "cell_type": "code",
   "execution_count": 114,
   "id": "567bc80c-f301-411b-b785-aebfa9a41337",
   "metadata": {},
   "outputs": [
    {
     "name": "stdout",
     "output_type": "stream",
     "text": [
      "This is a Login Form\n"
     ]
    }
   ],
   "source": [
    "google.login()"
   ]
  },
  {
   "cell_type": "code",
   "execution_count": 115,
   "id": "074e2b34-a7ad-4142-94e0-824fcbe07b6f",
   "metadata": {},
   "outputs": [
    {
     "name": "stdout",
     "output_type": "stream",
     "text": [
      "User can logout\n"
     ]
    }
   ],
   "source": [
    "google.logout()"
   ]
  },
  {
   "cell_type": "code",
   "execution_count": 116,
   "id": "a3a31f8e-b17c-499f-b271-ee998cf892a7",
   "metadata": {},
   "outputs": [
    {
     "name": "stdout",
     "output_type": "stream",
     "text": [
      "user can Signup!!\n"
     ]
    }
   ],
   "source": [
    "google.signup()"
   ]
  },
  {
   "cell_type": "code",
   "execution_count": null,
   "id": "b25c825b-9d5f-44ff-96ba-8de13166c55b",
   "metadata": {},
   "outputs": [],
   "source": []
  }
 ],
 "metadata": {
  "kernelspec": {
   "display_name": "Python [conda env:base] *",
   "language": "python",
   "name": "conda-base-py"
  },
  "language_info": {
   "codemirror_mode": {
    "name": "ipython",
    "version": 3
   },
   "file_extension": ".py",
   "mimetype": "text/x-python",
   "name": "python",
   "nbconvert_exporter": "python",
   "pygments_lexer": "ipython3",
   "version": "3.13.5"
  }
 },
 "nbformat": 4,
 "nbformat_minor": 5
}
