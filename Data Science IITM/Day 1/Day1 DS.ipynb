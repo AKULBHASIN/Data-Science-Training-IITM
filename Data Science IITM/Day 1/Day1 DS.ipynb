{
 "cells": [
  {
   "cell_type": "code",
   "execution_count": 1,
   "id": "9a147460-94b0-44bb-a9ec-8df16c6455ed",
   "metadata": {},
   "outputs": [],
   "source": [
    "def check_palindrome(word):\n",
    "    return word"
   ]
  },
  {
   "cell_type": "code",
   "execution_count": 2,
   "id": "1cfb545e-43b6-4e79-a938-2893f42d05ce",
   "metadata": {},
   "outputs": [],
   "source": [
    "a = 'ajay'"
   ]
  },
  {
   "cell_type": "code",
   "execution_count": 6,
   "id": "35542f2f-0451-4c3a-82c6-7f04abf9393d",
   "metadata": {},
   "outputs": [
    {
     "data": {
      "text/plain": [
       "'yaja'"
      ]
     },
     "execution_count": 6,
     "metadata": {},
     "output_type": "execute_result"
    }
   ],
   "source": [
    "a[::-1]"
   ]
  },
  {
   "cell_type": "code",
   "execution_count": 9,
   "id": "47701a94-86f5-4ceb-b00a-985ae61d45e2",
   "metadata": {},
   "outputs": [
    {
     "name": "stdout",
     "output_type": "stream",
     "text": [
      "dad is a palindrome\n"
     ]
    }
   ],
   "source": [
    "a = 'dad'\n",
    "\n",
    "if a == a[::-1]:\n",
    "    print(f'{a} is a palindrome')\n",
    "\n",
    "else:\n",
    "    print(f'{a} is not a palindrome')\n",
    "    "
   ]
  },
  {
   "cell_type": "code",
   "execution_count": 21,
   "id": "b4e0bd61-2129-4cd7-a8eb-fd15eeb0c7ad",
   "metadata": {},
   "outputs": [],
   "source": [
    "def check_palindrome(word:str):\n",
    "    if type(word) == str:\n",
    "        word = word.upper()\n",
    "        if word == word[::-1]:\n",
    "            return 'Palindrome'\n",
    "        else:\n",
    "            return 'Not a Palindrome'\n",
    "    else:\n",
    "        return 'invalid data type'"
   ]
  },
  {
   "cell_type": "code",
   "execution_count": 29,
   "id": "9aa55d8c-6ab4-46cc-84b7-0544e923ce5c",
   "metadata": {},
   "outputs": [
    {
     "data": {
      "text/plain": [
       "'invalid data type'"
      ]
     },
     "execution_count": 29,
     "metadata": {},
     "output_type": "execute_result"
    }
   ],
   "source": [
    "check_palindrome(['4554','2145'])"
   ]
  },
  {
   "cell_type": "code",
   "execution_count": 30,
   "id": "cfd383f8-a5f4-4b17-9be4-00d12a6d4ee7",
   "metadata": {},
   "outputs": [
    {
     "data": {
      "text/plain": [
       "'Not a Palindrome'"
      ]
     },
     "execution_count": 30,
     "metadata": {},
     "output_type": "execute_result"
    }
   ],
   "source": [
    "check_palindrome('123')"
   ]
  },
  {
   "cell_type": "code",
   "execution_count": null,
   "id": "0b5144c6-5945-4cab-af49-190f50f13aa6",
   "metadata": {},
   "outputs": [],
   "source": []
  }
 ],
 "metadata": {
  "kernelspec": {
   "display_name": "Python [conda env:base] *",
   "language": "python",
   "name": "conda-base-py"
  },
  "language_info": {
   "codemirror_mode": {
    "name": "ipython",
    "version": 3
   },
   "file_extension": ".py",
   "mimetype": "text/x-python",
   "name": "python",
   "nbconvert_exporter": "python",
   "pygments_lexer": "ipython3",
   "version": "3.13.5"
  }
 },
 "nbformat": 4,
 "nbformat_minor": 5
}
