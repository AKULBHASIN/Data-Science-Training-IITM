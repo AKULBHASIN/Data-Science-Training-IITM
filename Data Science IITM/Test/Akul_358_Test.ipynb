{
 "cells": [
  {
   "cell_type": "code",
   "execution_count": 9,
   "id": "52cdb021-78df-4f05-9400-47f396904677",
   "metadata": {},
   "outputs": [
    {
     "data": {
      "text/plain": [
       "[5, 2, 3]"
      ]
     },
     "execution_count": 9,
     "metadata": {},
     "output_type": "execute_result"
    }
   ],
   "source": [
    "# Q1) List is mutable(changes can be made), and Tuple is immutable(changes cannot be made).\n",
    "l1 = [1,2,3]\n",
    "l1[0]=5\n",
    "l1"
   ]
  },
  {
   "cell_type": "code",
   "execution_count": 16,
   "id": "05a8c53e-4654-430f-a912-ff89454dd764",
   "metadata": {},
   "outputs": [
    {
     "name": "stdin",
     "output_type": "stream",
     "text": [
      "enter value:  abc\n"
     ]
    },
    {
     "name": "stdout",
     "output_type": "stream",
     "text": [
      "<class 'str'>\n"
     ]
    },
    {
     "name": "stdin",
     "output_type": "stream",
     "text": [
      "enter value:  5\n"
     ]
    },
    {
     "name": "stdout",
     "output_type": "stream",
     "text": [
      "<class 'int'>\n"
     ]
    }
   ],
   "source": [
    "# Q2) Input() function help to take input from user, it return str(string) data type, to convert it, we will change it's data type.\n",
    "a = input('enter value: ')\n",
    "print(type(a))\n",
    "b = int(input('enter value: '))\n",
    "print(type(b))\n"
   ]
  },
  {
   "cell_type": "code",
   "execution_count": 22,
   "id": "228fcf98-9991-435d-bd72-1cce8191b4ae",
   "metadata": {},
   "outputs": [
    {
     "name": "stdout",
     "output_type": "stream",
     "text": [
      "<class 'dict'>\n"
     ]
    }
   ],
   "source": [
    "# Q3) Datatype to store value in the form of keys and values.\n",
    "dic = {'Name':'akul', 'Age': 21}\n",
    "print(type(dic))"
   ]
  },
  {
   "cell_type": "code",
   "execution_count": 24,
   "id": "b1a83636-9815-4582-9b9e-a438c4b6aa53",
   "metadata": {},
   "outputs": [
    {
     "name": "stdout",
     "output_type": "stream",
     "text": [
      "1\n",
      "2\n",
      "3\n",
      "4\n",
      "5\n"
     ]
    }
   ],
   "source": [
    "#Q4) for loop wokrs in a range, and till the condition is true.\n",
    "for i in range (1,6):\n",
    "    print(i)"
   ]
  },
  {
   "cell_type": "code",
   "execution_count": 25,
   "id": "fd6605c7-5237-498d-ae21-a036ad11eed9",
   "metadata": {},
   "outputs": [
    {
     "name": "stdout",
     "output_type": "stream",
     "text": [
      "it is divisible\n",
      "hello\n"
     ]
    }
   ],
   "source": [
    "# #Q5) To handle the errors which disturbs the flow of code.\n",
    "#         try:-\n",
    "#             to check if there is an error\n",
    "\n",
    "#         except:-\n",
    "#             it runs if there is an error in try block\n",
    "\n",
    "#         finally:-\n",
    "#             it will run if there is an error or not    \n",
    "\n",
    "\n",
    "try:\n",
    "    100/0\n",
    "except:\n",
    "    print('it is divisible')\n",
    "finally:\n",
    "    print('hello')"
   ]
  },
  {
   "cell_type": "code",
   "execution_count": 28,
   "id": "c08cb595-8229-4917-812d-0eb0c58b17bd",
   "metadata": {},
   "outputs": [],
   "source": [
    "#Q6) module:- combination of same class, methods, functions. "
   ]
  },
  {
   "cell_type": "code",
   "execution_count": 27,
   "id": "15a363af-c10d-436e-bc12-27fb8cbfc1e4",
   "metadata": {},
   "outputs": [],
   "source": [
    "#Q7) "
   ]
  },
  {
   "cell_type": "code",
   "execution_count": 29,
   "id": "6d89a930-7cbb-4d20-8a42-0048003aea4b",
   "metadata": {},
   "outputs": [],
   "source": [
    "#Q8) "
   ]
  },
  {
   "cell_type": "code",
   "execution_count": 32,
   "id": "ad89ece4-a212-4433-b0db-df323f784d3e",
   "metadata": {},
   "outputs": [
    {
     "name": "stdin",
     "output_type": "stream",
     "text": [
      "Enter radius:  5\n"
     ]
    },
    {
     "name": "stdout",
     "output_type": "stream",
     "text": [
      "31.428571428571427\n"
     ]
    }
   ],
   "source": [
    "#Q9)\n",
    "calculated_area = int(input('Enter radius: '))\n",
    "aa = 22/7 * (calculated_area)*2\n",
    "Area = aa\n",
    "print(Area)"
   ]
  },
  {
   "cell_type": "code",
   "execution_count": 46,
   "id": "e910667f-968c-4c79-87fe-4abd9368705b",
   "metadata": {},
   "outputs": [
    {
     "name": "stdin",
     "output_type": "stream",
     "text": [
      "Name:  Akul\n",
      "Age:  20\n"
     ]
    },
    {
     "name": "stdout",
     "output_type": "stream",
     "text": [
      "hello Akul, you are 20 years old!!\n"
     ]
    }
   ],
   "source": [
    "#Q10)\n",
    "\n",
    "a = input('Name: ')\n",
    "b = int(input('Age: '))\n",
    "print(f'hello {a}, you are {b} years old!!')"
   ]
  },
  {
   "cell_type": "code",
   "execution_count": 79,
   "id": "32172d0f-0a67-4d1b-b84e-95f75a8a15b7",
   "metadata": {},
   "outputs": [
    {
     "name": "stdout",
     "output_type": "stream",
     "text": [
      "(1, 'apple')\n",
      "(2, 'kiwi')\n",
      "(3, 'cherry')\n",
      "(4, 'mango')\n",
      "(5, 'banana')\n"
     ]
    }
   ],
   "source": [
    "#Q11)\n",
    "Fruits = ['apple','kiwi','cherry','mango','banana']\n",
    "for i in enumerate (Fruits,1):\n",
    "    print(i)"
   ]
  },
  {
   "cell_type": "code",
   "execution_count": 74,
   "id": "e54127f7-e7ee-439a-85e2-7b42fc297bf5",
   "metadata": {},
   "outputs": [],
   "source": [
    "#Q12)\n",
    "\n",
    "def grade_calculator(score):\n",
    "    if (100>=score>=90):\n",
    "        print('A')\n",
    "    elif (89>=score>=80):\n",
    "        print('B')\n",
    "    elif (79>=score>=70):\n",
    "        print('C')\n",
    "    elif (69>=score>=60):\n",
    "        print('D')\n",
    "    elif(60>score):\n",
    "        print('F')\n",
    "\n",
    "        "
   ]
  },
  {
   "cell_type": "code",
   "execution_count": 75,
   "id": "20d7acc8-75a1-4fe1-a009-b5f2179ef2be",
   "metadata": {},
   "outputs": [
    {
     "name": "stdout",
     "output_type": "stream",
     "text": [
      "A\n"
     ]
    }
   ],
   "source": [
    "grade_calculator(95)"
   ]
  },
  {
   "cell_type": "code",
   "execution_count": 76,
   "id": "f31d548d-6aae-4d12-b49d-4e56c2433a5c",
   "metadata": {},
   "outputs": [
    {
     "name": "stdout",
     "output_type": "stream",
     "text": [
      "D\n"
     ]
    }
   ],
   "source": [
    "grade_calculator(66)"
   ]
  },
  {
   "cell_type": "code",
   "execution_count": 77,
   "id": "a7d5f3c5-1125-4486-84c0-b515d454c103",
   "metadata": {},
   "outputs": [
    {
     "name": "stdout",
     "output_type": "stream",
     "text": [
      "F\n"
     ]
    }
   ],
   "source": [
    "grade_calculator(33)"
   ]
  },
  {
   "cell_type": "code",
   "execution_count": 78,
   "id": "47bf9e81-c6e6-4bd2-986c-95795f3987d8",
   "metadata": {},
   "outputs": [],
   "source": [
    "#Q13)\n",
    "\n"
   ]
  },
  {
   "cell_type": "code",
   "execution_count": 80,
   "id": "ce3899d8-5406-499b-b923-eaca7c4d06f6",
   "metadata": {},
   "outputs": [
    {
     "ename": "SyntaxError",
     "evalue": "invalid syntax (804506648.py, line 6)",
     "output_type": "error",
     "traceback": [
      "\u001b[1;36m  Cell \u001b[1;32mIn[80], line 6\u001b[1;36m\u001b[0m\n\u001b[1;33m    def\u001b[0m\n\u001b[1;37m       ^\u001b[0m\n\u001b[1;31mSyntaxError\u001b[0m\u001b[1;31m:\u001b[0m invalid syntax\n"
     ]
    }
   ],
   "source": [
    "#Q14)\n",
    "\n",
    "class Bank_Account:\n",
    "    Name = 'Akul'\n",
    "    Balance = 50000\n",
    "    def"
   ]
  },
  {
   "cell_type": "code",
   "execution_count": null,
   "id": "42067b6d-2a4c-482a-a856-6d9680c51a44",
   "metadata": {},
   "outputs": [],
   "source": [
    "#Q15) "
   ]
  }
 ],
 "metadata": {
  "kernelspec": {
   "display_name": "Python [conda env:base] *",
   "language": "python",
   "name": "conda-base-py"
  },
  "language_info": {
   "codemirror_mode": {
    "name": "ipython",
    "version": 3
   },
   "file_extension": ".py",
   "mimetype": "text/x-python",
   "name": "python",
   "nbconvert_exporter": "python",
   "pygments_lexer": "ipython3",
   "version": "3.13.5"
  }
 },
 "nbformat": 4,
 "nbformat_minor": 5
}
