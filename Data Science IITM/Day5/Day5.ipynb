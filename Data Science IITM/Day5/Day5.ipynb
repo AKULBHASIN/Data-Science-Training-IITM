{
 "cells": [
  {
   "cell_type": "code",
   "execution_count": 3,
   "id": "70de5c74-cad2-41dc-8cb5-764876bfd1e6",
   "metadata": {},
   "outputs": [],
   "source": [
    "# Python to MySQL connect"
   ]
  },
  {
   "cell_type": "code",
   "execution_count": 5,
   "id": "66b4a968-3180-4d90-a5da-2959972374c3",
   "metadata": {},
   "outputs": [
    {
     "name": "stdout",
     "output_type": "stream",
     "text": [
      "Collecting PyMySQLNote: you may need to restart the kernel to use updated packages.\n",
      "\n",
      "  Downloading PyMySQL-1.1.1-py3-none-any.whl.metadata (4.4 kB)\n",
      "Downloading PyMySQL-1.1.1-py3-none-any.whl (44 kB)\n",
      "Installing collected packages: PyMySQL\n",
      "Successfully installed PyMySQL-1.1.1\n"
     ]
    }
   ],
   "source": [
    "# pip install PyMySQL"
   ]
  },
  {
   "cell_type": "code",
   "execution_count": 7,
   "id": "6acbed86-c1fb-46fa-9d15-69dc085056ca",
   "metadata": {},
   "outputs": [
    {
     "name": "stdout",
     "output_type": "stream",
     "text": [
      "done\n"
     ]
    }
   ],
   "source": [
    "import pymysql as py\n",
    "print('done')"
   ]
  },
  {
   "cell_type": "code",
   "execution_count": 17,
   "id": "c1f3c065-b98b-40d1-8ed9-65a5484c3462",
   "metadata": {},
   "outputs": [
    {
     "name": "stdout",
     "output_type": "stream",
     "text": [
      "Connection Created Successsfully\n",
      "done\n"
     ]
    }
   ],
   "source": [
    "conn = py.connect(user = 'root', \n",
    "           password = 'AKULbhasin1685@',\n",
    "           host = 'localhost',\n",
    "           autocommit = True)\n",
    "print('Connection Created Successsfully')\n",
    "print('done')"
   ]
  },
  {
   "cell_type": "code",
   "execution_count": 19,
   "id": "285364e7-231b-4eb0-b471-7dcd35d9380c",
   "metadata": {},
   "outputs": [
    {
     "name": "stdout",
     "output_type": "stream",
     "text": [
      "done\n"
     ]
    }
   ],
   "source": [
    "cur = conn.cursor()\n",
    "print('done')"
   ]
  },
  {
   "cell_type": "code",
   "execution_count": null,
   "id": "bce5e771-a5cc-4eda-998e-4b21adb329f7",
   "metadata": {},
   "outputs": [],
   "source": []
  },
  {
   "cell_type": "code",
   "execution_count": 20,
   "id": "85d0a265-0212-43d8-a64e-1044d751312f",
   "metadata": {},
   "outputs": [],
   "source": [
    "#create database using pyhton"
   ]
  },
  {
   "cell_type": "code",
   "execution_count": null,
   "id": "3aced745-649c-46a2-93b1-1d6e8533c64c",
   "metadata": {},
   "outputs": [],
   "source": [
    "query = '''create database IITM_day5;'''\n",
    "\n",
    "\n",
    "cur.execute(query)\n",
    "print('done')"
   ]
  },
  {
   "cell_type": "code",
   "execution_count": 30,
   "id": "36ad6e9e-d737-4dac-a23c-7464cf15f840",
   "metadata": {},
   "outputs": [
    {
     "name": "stdout",
     "output_type": "stream",
     "text": [
      "done\n"
     ]
    }
   ],
   "source": [
    "query ='''USE IITM_day5;'''\n",
    "cur.execute(query)\n",
    "print('done')"
   ]
  },
  {
   "cell_type": "code",
   "execution_count": 31,
   "id": "4e7c74b2-5a9e-4106-b2a9-d8ec9e3580ef",
   "metadata": {},
   "outputs": [
    {
     "name": "stdout",
     "output_type": "stream",
     "text": [
      "done\n"
     ]
    }
   ],
   "source": [
    "query = '''create table student_details\n",
    "(\n",
    "SID int not null, \n",
    "student_name varchar(50),\n",
    "course varchar(50),\n",
    "Address varchar(50),\n",
    "Scholarship float\n",
    ");'''\n",
    "\n",
    "cur.execute(query)\n",
    "print('done')"
   ]
  },
  {
   "cell_type": "code",
   "execution_count": 33,
   "id": "c17fd2dd-6ced-4c13-adf6-bfbe1493150f",
   "metadata": {},
   "outputs": [
    {
     "name": "stdout",
     "output_type": "stream",
     "text": [
      "done\n"
     ]
    }
   ],
   "source": [
    "query = '''insert into student_details\n",
    "values\n",
    "(101,\"Mohan Sharma\", \"BCA\", \"Delhi Janakpuri\", 5000),\n",
    "(105,\"Ravi Verma\", \"MCA\", \"South Delhi\", 5500);\n",
    "'''\n",
    "\n",
    "cur.execute(query)\n",
    "print('done')"
   ]
  },
  {
   "cell_type": "code",
   "execution_count": 36,
   "id": "7c81671e-c1a8-4edd-a7f9-1a359cee90c6",
   "metadata": {},
   "outputs": [
    {
     "name": "stdin",
     "output_type": "stream",
     "text": [
      "Enter Roll No/SID 024\n",
      "Enter your Name:  Mohan\n",
      "Enter your Course:  BBA\n",
      "Enter your Address:  Gr Noida\n",
      "Enter your Scholarship in RS:  8000\n"
     ]
    },
    {
     "name": "stdout",
     "output_type": "stream",
     "text": [
      "done\n"
     ]
    }
   ],
   "source": [
    "sid = int(input('Enter Roll No/SID'))\n",
    "name = input('Enter your Name: ')\n",
    "course = input('Enter your Course: ')\n",
    "address = input('Enter your Address: ')\n",
    "scholarship = float(input('Enter your Scholarship in RS: '))\n",
    "\n",
    "q = f'''insert into student_details values\n",
    "({sid},\"{name}\",\"{course}\",\"{address}\",{scholarship});'''\n",
    "\n",
    "cur.execute(q)\n",
    "print('done')"
   ]
  },
  {
   "cell_type": "code",
   "execution_count": null,
   "id": "61eee3f6-5a4d-498c-b075-7a6d2ec4208a",
   "metadata": {},
   "outputs": [],
   "source": []
  },
  {
   "cell_type": "code",
   "execution_count": null,
   "id": "61aac837-0a82-4c4f-b26c-eccd0baa53fc",
   "metadata": {},
   "outputs": [],
   "source": [
    "query = '''select * from student_details;'''\n",
    "\n",
    "\n",
    "cur.execute(query)\n",
    "records = cur.fetchall()\n",
    "\n",
    "all_columns = []\n",
    "for i in cur.description:\n",
    "    all_columns.append(i[0])\n",
    "\n",
    "\n",
    "import pandas as pd\n",
    "pd.DataFrame(records, columns = all_columns)"
   ]
  },
  {
   "cell_type": "code",
   "execution_count": null,
   "id": "06711aaa-5f20-4338-8ff7-4efff8cf378a",
   "metadata": {},
   "outputs": [],
   "source": []
  },
  {
   "cell_type": "code",
   "execution_count": null,
   "id": "0ea9b18d-d9b2-4eda-8085-964067ed6718",
   "metadata": {},
   "outputs": [],
   "source": []
  },
  {
   "cell_type": "code",
   "execution_count": null,
   "id": "43e9a9c4-ee25-4288-9b97-d8678994885d",
   "metadata": {},
   "outputs": [],
   "source": [
    "def show_records(db,table):\n",
    "    query = f'''select * from {db}.{table};'''\n",
    "    cur.execute(query)\n",
    "    \n",
    "    records = cur.fetchall()\n",
    "    \n",
    "    all_columns = []\n",
    "    for i in cur.description:\n",
    "        all_columns.append(i[0])\n",
    "    \n",
    "    \n",
    "    import pandas as pd\n",
    "    df = pd.DataFrame(records, columns = all_columns)\n",
    "    return df\n",
    "    \n",
    "        "
   ]
  },
  {
   "cell_type": "code",
   "execution_count": null,
   "id": "f81ec040-bbff-42f1-925e-4bdad542a860",
   "metadata": {},
   "outputs": [],
   "source": [
    "show_records('iitm_day5','student_details')"
   ]
  },
  {
   "cell_type": "code",
   "execution_count": null,
   "id": "a9f417c0-e95b-4ee0-af25-40428b79d6d1",
   "metadata": {},
   "outputs": [],
   "source": []
  },
  {
   "cell_type": "code",
   "execution_count": null,
   "id": "1f90ae11-cf28-4b92-a8d4-430da60529dc",
   "metadata": {},
   "outputs": [],
   "source": []
  },
  {
   "cell_type": "code",
   "execution_count": null,
   "id": "48a26488-85cf-4efc-9d41-d735cc2e937e",
   "metadata": {},
   "outputs": [],
   "source": []
  },
  {
   "cell_type": "code",
   "execution_count": null,
   "id": "fcebe0ee-0468-4f1f-8d9f-af68145596b7",
   "metadata": {},
   "outputs": [],
   "source": []
  },
  {
   "cell_type": "code",
   "execution_count": null,
   "id": "81a04b36-6f77-498a-870a-a519a32bed96",
   "metadata": {},
   "outputs": [],
   "source": []
  },
  {
   "cell_type": "code",
   "execution_count": null,
   "id": "7335990a-6df4-4831-b983-dffc29cfc708",
   "metadata": {},
   "outputs": [],
   "source": []
  },
  {
   "cell_type": "code",
   "execution_count": null,
   "id": "69ba030a-2983-4f17-9e1d-74d90ec5ce1c",
   "metadata": {},
   "outputs": [],
   "source": []
  },
  {
   "cell_type": "code",
   "execution_count": null,
   "id": "8ff6e011-4edf-48a6-a171-bedf0242b37e",
   "metadata": {},
   "outputs": [],
   "source": []
  },
  {
   "cell_type": "code",
   "execution_count": null,
   "id": "fdce312e-6861-42df-883a-ae875995deea",
   "metadata": {},
   "outputs": [],
   "source": []
  },
  {
   "cell_type": "code",
   "execution_count": null,
   "id": "e256a4ba-a5ef-450f-8c41-cecb16e601d8",
   "metadata": {},
   "outputs": [],
   "source": []
  },
  {
   "cell_type": "code",
   "execution_count": null,
   "id": "26e607c2-1aad-4b03-b8c1-f47d73cd36cf",
   "metadata": {},
   "outputs": [],
   "source": []
  }
 ],
 "metadata": {
  "kernelspec": {
   "display_name": "Python [conda env:base] *",
   "language": "python",
   "name": "conda-base-py"
  },
  "language_info": {
   "codemirror_mode": {
    "name": "ipython",
    "version": 3
   },
   "file_extension": ".py",
   "mimetype": "text/x-python",
   "name": "python",
   "nbconvert_exporter": "python",
   "pygments_lexer": "ipython3",
   "version": "3.13.5"
  }
 },
 "nbformat": 4,
 "nbformat_minor": 5
}
