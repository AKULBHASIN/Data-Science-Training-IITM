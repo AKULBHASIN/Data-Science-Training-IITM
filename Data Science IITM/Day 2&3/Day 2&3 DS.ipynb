{
 "cells": [
  {
   "cell_type": "code",
   "execution_count": 1,
   "id": "9a147460-94b0-44bb-a9ec-8df16c6455ed",
   "metadata": {},
   "outputs": [],
   "source": [
    "def check_palindrome(word):\n",
    "    return word"
   ]
  },
  {
   "cell_type": "code",
   "execution_count": 2,
   "id": "1cfb545e-43b6-4e79-a938-2893f42d05ce",
   "metadata": {},
   "outputs": [],
   "source": [
    "a = 'ajay'"
   ]
  },
  {
   "cell_type": "code",
   "execution_count": 6,
   "id": "35542f2f-0451-4c3a-82c6-7f04abf9393d",
   "metadata": {},
   "outputs": [
    {
     "data": {
      "text/plain": [
       "'yaja'"
      ]
     },
     "execution_count": 6,
     "metadata": {},
     "output_type": "execute_result"
    }
   ],
   "source": [
    "a[::-1]"
   ]
  },
  {
   "cell_type": "code",
   "execution_count": 9,
   "id": "47701a94-86f5-4ceb-b00a-985ae61d45e2",
   "metadata": {},
   "outputs": [
    {
     "name": "stdout",
     "output_type": "stream",
     "text": [
      "dad is a palindrome\n"
     ]
    }
   ],
   "source": [
    "a = 'dad'\n",
    "\n",
    "if a == a[::-1]:\n",
    "    print(f'{a} is a palindrome')\n",
    "\n",
    "else:\n",
    "    print(f'{a} is not a palindrome')\n",
    "    "
   ]
  },
  {
   "cell_type": "code",
   "execution_count": 45,
   "id": "b4e0bd61-2129-4cd7-a8eb-fd15eeb0c7ad",
   "metadata": {},
   "outputs": [],
   "source": [
    "def check_palindrome(word:str):\n",
    "    if type(word) == str:\n",
    "        word = word.upper()\n",
    "        if word == word[::-1]:\n",
    "            return 'Palindrome'\n",
    "        else:\n",
    "            return 'Not a Palindrome'\n",
    "    else:\n",
    "        return 'invalid data type'"
   ]
  },
  {
   "cell_type": "code",
   "execution_count": 29,
   "id": "9aa55d8c-6ab4-46cc-84b7-0544e923ce5c",
   "metadata": {},
   "outputs": [
    {
     "data": {
      "text/plain": [
       "'invalid data type'"
      ]
     },
     "execution_count": 29,
     "metadata": {},
     "output_type": "execute_result"
    }
   ],
   "source": [
    "check_palindrome(['4554','2145'])"
   ]
  },
  {
   "cell_type": "code",
   "execution_count": 30,
   "id": "cfd383f8-a5f4-4b17-9be4-00d12a6d4ee7",
   "metadata": {},
   "outputs": [
    {
     "data": {
      "text/plain": [
       "'Not a Palindrome'"
      ]
     },
     "execution_count": 30,
     "metadata": {},
     "output_type": "execute_result"
    }
   ],
   "source": [
    "check_palindrome('123')"
   ]
  },
  {
   "cell_type": "code",
   "execution_count": 33,
   "id": "0b5144c6-5945-4cab-af49-190f50f13aa6",
   "metadata": {},
   "outputs": [],
   "source": [
    "def give_fibo(n):\n",
    "    fibo = [0,1]\n",
    "    for i in range(n-2):\n",
    "        last_num = fibo[-1]\n",
    "        second_last_num = fibo[-2]\n",
    "        next_num = last_num + second_last_num\n",
    "        fibo.append(next_num)\n",
    "    return fibo\n",
    "        "
   ]
  },
  {
   "cell_type": "code",
   "execution_count": 44,
   "id": "7a960a33-4f60-4c39-99b6-4f7538490ca7",
   "metadata": {},
   "outputs": [
    {
     "name": "stdout",
     "output_type": "stream",
     "text": [
      "[0, 1, 1, 2, 3, 5, 8, 13]\n"
     ]
    }
   ],
   "source": [
    "print (give_fibo(8))"
   ]
  },
  {
   "cell_type": "code",
   "execution_count": 48,
   "id": "e54645b2-370f-4755-89a0-797ddb046155",
   "metadata": {},
   "outputs": [],
   "source": [
    "def check_prime(number):\n",
    "    for i in range(2,number):\n",
    "        if number % i == 0:\n",
    "            return 'not a prime number'\n",
    "            break\n",
    "    else:\n",
    "        return 'prime number'\n",
    "        "
   ]
  },
  {
   "cell_type": "code",
   "execution_count": 54,
   "id": "8b82fcba-2e9c-4a8d-9da0-1dc733aab0bd",
   "metadata": {},
   "outputs": [
    {
     "data": {
      "text/plain": [
       "'prime number'"
      ]
     },
     "execution_count": 54,
     "metadata": {},
     "output_type": "execute_result"
    }
   ],
   "source": [
    "check_prime(13)"
   ]
  },
  {
   "cell_type": "code",
   "execution_count": 91,
   "id": "e7106620-cfee-4661-8e38-0f8238b825c9",
   "metadata": {},
   "outputs": [
    {
     "name": "stdout",
     "output_type": "stream",
     "text": [
      "*\n",
      "**\n",
      "***\n",
      "****\n",
      "*****\n"
     ]
    }
   ],
   "source": [
    "n = 5\n",
    "for i in range(1,n+1):\n",
    "    print(i * '*')"
   ]
  },
  {
   "cell_type": "code",
   "execution_count": 115,
   "id": "9cc18242-f9ff-4113-85d3-79478248d417",
   "metadata": {},
   "outputs": [
    {
     "name": "stdout",
     "output_type": "stream",
     "text": [
      "    * \n",
      "   * * \n",
      "  * * * \n",
      " * * * * \n",
      "* * * * * \n"
     ]
    }
   ],
   "source": [
    "n = 5\n",
    "for i in range(1,n+1):\n",
    "    print(' '*(n-i) + i*'* ')"
   ]
  },
  {
   "cell_type": "code",
   "execution_count": 124,
   "id": "7fa88134-1f23-40bd-a4d0-a18d10111d45",
   "metadata": {},
   "outputs": [],
   "source": [
    "def print_star(n = 5, typ = 'left'):\n",
    "    if typ == 'left':\n",
    "        space = ''\n",
    "    elif typ == 'mid':\n",
    "        space = ' '\n",
    "    elif typ == 'right':\n",
    "        space = '  '\n",
    "    for i in range(1,n+1):\n",
    "        print(space*(n-i) + i*'* ')\n",
    "    "
   ]
  },
  {
   "cell_type": "code",
   "execution_count": 128,
   "id": "12e42049-2662-4283-aac0-87472ec37448",
   "metadata": {},
   "outputs": [
    {
     "name": "stdout",
     "output_type": "stream",
     "text": [
      "        * \n",
      "      * * \n",
      "    * * * \n",
      "  * * * * \n",
      "* * * * * \n"
     ]
    }
   ],
   "source": [
    "print_star(5,'right')"
   ]
  },
  {
   "cell_type": "code",
   "execution_count": 133,
   "id": "6470d707-3fb2-4815-87ec-c5714b281249",
   "metadata": {},
   "outputs": [],
   "source": [
    "def print_star(n = 5, typ = 'left', shape = '*'):\n",
    "    if typ == 'left':\n",
    "        space = ''\n",
    "    elif typ == 'mid':\n",
    "        space = ' '\n",
    "    elif typ == 'right':\n",
    "        space = '  '\n",
    "    for i in range(1,n+1):\n",
    "        print(space*(n-i) + i*f'{shape} ')\n",
    "    "
   ]
  },
  {
   "cell_type": "code",
   "execution_count": 134,
   "id": "4034161b-beb8-406e-9236-76ae1914bc3e",
   "metadata": {},
   "outputs": [
    {
     "name": "stdout",
     "output_type": "stream",
     "text": [
      "& \n",
      "& & \n",
      "& & & \n",
      "& & & & \n",
      "& & & & & \n"
     ]
    }
   ],
   "source": [
    "print_star(5,'left','&')"
   ]
  },
  {
   "cell_type": "code",
   "execution_count": 145,
   "id": "24f22db0-57f3-4517-8218-72be3ea34ade",
   "metadata": {},
   "outputs": [],
   "source": [
    " def sum_of_n_natural_num(n):\n",
    "     result = 0\n",
    "     for i in range(1,n+1):\n",
    "         result += i\n",
    "     return result\n",
    "                                     "
   ]
  },
  {
   "cell_type": "code",
   "execution_count": 147,
   "id": "8cf93982-ec3d-4f68-982c-098f3d0e2b6b",
   "metadata": {},
   "outputs": [
    {
     "data": {
      "text/plain": [
       "88410"
      ]
     },
     "execution_count": 147,
     "metadata": {},
     "output_type": "execute_result"
    }
   ],
   "source": [
    "sum_of_n_natural_num(420)\n"
   ]
  },
  {
   "cell_type": "code",
   "execution_count": 153,
   "id": "14840283-4662-4752-b047-11ddbd92b3c5",
   "metadata": {},
   "outputs": [],
   "source": [
    "def factorial(n):\n",
    "     result = 1\n",
    "     for i in range(1,n+1):\n",
    "         result *= i\n",
    "     return result \n",
    "                     "
   ]
  },
  {
   "cell_type": "code",
   "execution_count": 157,
   "id": "3d2398e0-8c14-4f96-86ad-bc9585af3edf",
   "metadata": {},
   "outputs": [
    {
     "data": {
      "text/plain": [
       "39916800"
      ]
     },
     "execution_count": 157,
     "metadata": {},
     "output_type": "execute_result"
    }
   ],
   "source": [
    "factorial(11)"
   ]
  },
  {
   "cell_type": "code",
   "execution_count": 163,
   "id": "b571cbfb-7386-4a83-aad4-0f9ee47b7751",
   "metadata": {},
   "outputs": [],
   "source": [
    "def total_sales(*args):\n",
    "    #unpacking\n",
    "    result = 0 \n",
    "    for i in args:\n",
    "        result +=i\n",
    "    return result "
   ]
  },
  {
   "cell_type": "code",
   "execution_count": 168,
   "id": "09118ce5-a151-49c8-b675-423aefa9ea87",
   "metadata": {},
   "outputs": [
    {
     "data": {
      "text/plain": [
       "1015553"
      ]
     },
     "execution_count": 168,
     "metadata": {},
     "output_type": "execute_result"
    }
   ],
   "source": [
    "total_sales(15678,987654,2345,9876)"
   ]
  },
  {
   "cell_type": "raw",
   "id": "1012bdbf-4709-42f0-92e8-78bd35c77eba",
   "metadata": {},
   "source": [
    "sales = [1232434978,9098,5944,4848,4738,6742,92480,4820,9724,2728,72479]"
   ]
  },
  {
   "cell_type": "code",
   "execution_count": 178,
   "id": "b3b3d975-7c66-432a-bc42-131c092f2a89",
   "metadata": {},
   "outputs": [
    {
     "name": "stdout",
     "output_type": "stream",
     "text": [
      "9\n"
     ]
    }
   ],
   "source": [
    "sales = [1232434978,9098,5944,4848,142,57,80886,9,56,4738,6742,92480,4820,9724,2728,72479]\n",
    "min_element = sales[0]\n",
    "for i in sales[1:]:\n",
    "    if i < min_element:\n",
    "        min_element = i\n",
    "print(min_element)"
   ]
  },
  {
   "cell_type": "code",
   "execution_count": 201,
   "id": "b8ee01cc-b20f-445a-a21b-a872af031b32",
   "metadata": {},
   "outputs": [],
   "source": [
    "def minn_num(sales):\n",
    "    sales = [1232434978,9098,142,57,80886,9,56,4738,6742,92480,4820,9724,2728,72479]\n",
    "    min_element = sales[0]\n",
    "    for i in sales[1:]:\n",
    "        if i < min_element:\n",
    "            min_element = i\n",
    "    print(min_element)\n",
    "    "
   ]
  },
  {
   "cell_type": "code",
   "execution_count": 208,
   "id": "03d097b6-f438-4bc4-a14b-1bd970120692",
   "metadata": {},
   "outputs": [],
   "source": [
    "def max_element(*data):\n",
    "    \n",
    "    max_element = data[0]\n",
    "    for i in data[1:]:\n",
    "         if i > max_element:\n",
    "            max_element = i\n",
    "    return max_element\n",
    "    "
   ]
  },
  {
   "cell_type": "code",
   "execution_count": 209,
   "id": "cbb6a589-7e4a-4bfa-97ee-8f161c0416da",
   "metadata": {},
   "outputs": [
    {
     "data": {
      "text/plain": [
       "909090909090"
      ]
     },
     "execution_count": 209,
     "metadata": {},
     "output_type": "execute_result"
    }
   ],
   "source": [
    "max_element(23,45678,9876543,234567,678987,909090909090)"
   ]
  },
  {
   "cell_type": "code",
   "execution_count": 219,
   "id": "af876342-fc4c-434f-8a50-97e115406fbd",
   "metadata": {},
   "outputs": [],
   "source": [
    "\n",
    "#company = ['ola', 'uber', 'microsoft', 'google', 'tata']\n",
    "\n",
    "def add_hashtag(*company):\n",
    "    result = []\n",
    "    for i in company:\n",
    "        result.append('#'+' @ '+i.upper())\n",
    "    return result"
   ]
  },
  {
   "cell_type": "code",
   "execution_count": 220,
   "id": "0737de1f-978a-4201-9f8f-5dd4f03368ab",
   "metadata": {},
   "outputs": [
    {
     "data": {
      "text/plain": [
       "['# @ OLA', '# @ GOOGLE', '# @ ADANI']"
      ]
     },
     "execution_count": 220,
     "metadata": {},
     "output_type": "execute_result"
    }
   ],
   "source": [
    "add_hashtag('ola','google','adani')"
   ]
  },
  {
   "cell_type": "code",
   "execution_count": 222,
   "id": "ad6eb607-548d-45ae-95d2-31b27bb2a071",
   "metadata": {},
   "outputs": [
    {
     "data": {
      "text/plain": [
       "['# @ OLA', '# @ UBER', '# @ MICROSOFT', '# @ GOOGLE', '# @ TATA']"
      ]
     },
     "execution_count": 222,
     "metadata": {},
     "output_type": "execute_result"
    }
   ],
   "source": [
    "add_hashtag(*company)\n",
    "\n"
   ]
  },
  {
   "cell_type": "code",
   "execution_count": 256,
   "id": "5b85043c-7771-4c66-af46-c9106631997f",
   "metadata": {},
   "outputs": [],
   "source": [
    "def store_records(name,age,sec,roll_no,Class):\n",
    "    data = {'Name' :name, 'Age' :age, 'Sec' :sec, 'Roll_No' :roll_no, 'Class' :Class}\n",
    "    import pandas as pd\n",
    "    result = pd.DataFrame(data, index = [1])\n",
    "    return result \n",
    "\n",
    "\n",
    "    "
   ]
  },
  {
   "cell_type": "code",
   "execution_count": 258,
   "id": "f19db83b-47c9-4555-ba56-adc880452191",
   "metadata": {},
   "outputs": [
    {
     "data": {
      "text/html": [
       "<div>\n",
       "<style scoped>\n",
       "    .dataframe tbody tr th:only-of-type {\n",
       "        vertical-align: middle;\n",
       "    }\n",
       "\n",
       "    .dataframe tbody tr th {\n",
       "        vertical-align: top;\n",
       "    }\n",
       "\n",
       "    .dataframe thead th {\n",
       "        text-align: right;\n",
       "    }\n",
       "</style>\n",
       "<table border=\"1\" class=\"dataframe\">\n",
       "  <thead>\n",
       "    <tr style=\"text-align: right;\">\n",
       "      <th></th>\n",
       "      <th>Name</th>\n",
       "      <th>Age</th>\n",
       "      <th>Sec</th>\n",
       "      <th>Roll_No</th>\n",
       "      <th>Class</th>\n",
       "    </tr>\n",
       "  </thead>\n",
       "  <tbody>\n",
       "    <tr>\n",
       "      <th>1</th>\n",
       "      <td>Akul</td>\n",
       "      <td>18</td>\n",
       "      <td>A</td>\n",
       "      <td>23</td>\n",
       "      <td>12</td>\n",
       "    </tr>\n",
       "  </tbody>\n",
       "</table>\n",
       "</div>"
      ],
      "text/plain": [
       "   Name  Age Sec  Roll_No  Class\n",
       "1  Akul   18   A       23     12"
      ]
     },
     "execution_count": 258,
     "metadata": {},
     "output_type": "execute_result"
    }
   ],
   "source": [
    "store_records('Akul',18,'A',23,12)"
   ]
  },
  {
   "cell_type": "code",
   "execution_count": 266,
   "id": "39ebf8e1-e25c-4699-bc50-505e4f350337",
   "metadata": {},
   "outputs": [],
   "source": [
    "def std_rec(**kwargs):\n",
    "    import pandas as pd\n",
    "    result = pd.DataFrame (kwargs, index = [])\n",
    "    return result \n",
    "    \n",
    "    "
   ]
  },
  {
   "cell_type": "code",
   "execution_count": 2,
   "id": "f8d0a72b-9d79-49e7-8285-61e3a4d4df79",
   "metadata": {},
   "outputs": [
    {
     "ename": "NameError",
     "evalue": "name 'std_rec' is not defined",
     "output_type": "error",
     "traceback": [
      "\u001b[1;31m---------------------------------------------------------------------------\u001b[0m",
      "\u001b[1;31mNameError\u001b[0m                                 Traceback (most recent call last)",
      "Cell \u001b[1;32mIn[2], line 1\u001b[0m\n\u001b[1;32m----> 1\u001b[0m std_rec(Name \u001b[38;5;241m=\u001b[39m \u001b[38;5;124m'\u001b[39m\u001b[38;5;124mAkul\u001b[39m\u001b[38;5;124m'\u001b[39m, Age \u001b[38;5;241m=\u001b[39m \u001b[38;5;241m20\u001b[39m, Sec \u001b[38;5;241m=\u001b[39m\u001b[38;5;124m'\u001b[39m\u001b[38;5;124mE2\u001b[39m\u001b[38;5;124m'\u001b[39m, Roll_no \u001b[38;5;241m=\u001b[39m\u001b[38;5;241m358\u001b[39m, Address \u001b[38;5;241m=\u001b[39m \u001b[38;5;124m'\u001b[39m\u001b[38;5;124mDelhi\u001b[39m\u001b[38;5;124m'\u001b[39m)\n",
      "\u001b[1;31mNameError\u001b[0m: name 'std_rec' is not defined"
     ]
    }
   ],
   "source": [
    "std_rec(Name = 'Akul', Age = 20, Sec ='E2', Roll_no =358, Address = 'Delhi')"
   ]
  },
  {
   "cell_type": "code",
   "execution_count": 24,
   "id": "98fdf3e2-d6c1-404b-b360-8e5079d6b2fc",
   "metadata": {},
   "outputs": [
    {
     "name": "stdout",
     "output_type": "stream",
     "text": [
      "something went wrong!!\n",
      "invalid data type\n"
     ]
    }
   ],
   "source": [
    "\n",
    "#exception handling \n",
    "\n",
    "age = '23'\n",
    "try:\n",
    "    print(1/0)\n",
    "    if age >= 18:\n",
    "      print('can vote')\n",
    "    else:\n",
    "      print('can\\'t vote')\n",
    "except:\n",
    "            print('something went wrong!!')\n",
    "            print('invalid data type')"
   ]
  },
  {
   "cell_type": "code",
   "execution_count": 44,
   "id": "b57f519d-7cf7-4c73-8c2a-e37e10ec3faf",
   "metadata": {},
   "outputs": [],
   "source": [
    "def student_record(**kwargs):\n",
    "    import pandas as pd\n",
    "    import numpy as np\n",
    "    try: \n",
    "        data = pd.DataFrame(kwargs)\n",
    "        data.index = np.arange(1, len(data) + 1)\n",
    "        return data \n",
    "    except:\n",
    "        data = pd.DataFrame(kwargs,index =[1])\n",
    "        return data\n",
    "        \n",
    "        # try:\n",
    "        #     pass\n",
    "        # except:\n",
    "        #     pass"
   ]
  },
  {
   "cell_type": "code",
   "execution_count": 45,
   "id": "935424ea-d95a-49bf-9bc0-3f0f133e69e6",
   "metadata": {},
   "outputs": [
    {
     "data": {
      "text/html": [
       "<div>\n",
       "<style scoped>\n",
       "    .dataframe tbody tr th:only-of-type {\n",
       "        vertical-align: middle;\n",
       "    }\n",
       "\n",
       "    .dataframe tbody tr th {\n",
       "        vertical-align: top;\n",
       "    }\n",
       "\n",
       "    .dataframe thead th {\n",
       "        text-align: right;\n",
       "    }\n",
       "</style>\n",
       "<table border=\"1\" class=\"dataframe\">\n",
       "  <thead>\n",
       "    <tr style=\"text-align: right;\">\n",
       "      <th></th>\n",
       "      <th>Name</th>\n",
       "      <th>Age</th>\n",
       "      <th>Address</th>\n",
       "      <th>Sec</th>\n",
       "    </tr>\n",
       "  </thead>\n",
       "  <tbody>\n",
       "    <tr>\n",
       "      <th>1</th>\n",
       "      <td>Ajay</td>\n",
       "      <td>23</td>\n",
       "      <td>Noida</td>\n",
       "      <td>A</td>\n",
       "    </tr>\n",
       "    <tr>\n",
       "      <th>2</th>\n",
       "      <td>Aman</td>\n",
       "      <td>25</td>\n",
       "      <td>Gr Noida</td>\n",
       "      <td>B</td>\n",
       "    </tr>\n",
       "    <tr>\n",
       "      <th>3</th>\n",
       "      <td>Mohan</td>\n",
       "      <td>29</td>\n",
       "      <td>Delhi</td>\n",
       "      <td>C</td>\n",
       "    </tr>\n",
       "  </tbody>\n",
       "</table>\n",
       "</div>"
      ],
      "text/plain": [
       "    Name  Age   Address Sec\n",
       "1   Ajay   23     Noida   A\n",
       "2   Aman   25  Gr Noida   B\n",
       "3  Mohan   29     Delhi   C"
      ]
     },
     "execution_count": 45,
     "metadata": {},
     "output_type": "execute_result"
    }
   ],
   "source": [
    "student_record(Name = ['Ajay','Aman','Mohan'], \n",
    "               Age = [23,25,29], \n",
    "               Address = ['Noida','Gr Noida','Delhi'],\n",
    "               Sec = list('ABC'))\n",
    "               "
   ]
  },
  {
   "cell_type": "code",
   "execution_count": 58,
   "id": "079fd4b9-02ea-4c33-be06-bd5a5b499282",
   "metadata": {},
   "outputs": [],
   "source": [
    "def show_time():\n",
    "    try:\n",
    "        while True:\n",
    "            import time\n",
    "            print(time.asctime())\n",
    "            time.sleep(1)\n",
    "            display(clear = True)\n",
    "    except:\n",
    "        print('Timer has been stopped')"
   ]
  },
  {
   "cell_type": "code",
   "execution_count": 59,
   "id": "7ca2ce11-0c1c-42b9-b3e1-5a3a122166e1",
   "metadata": {},
   "outputs": [
    {
     "name": "stdout",
     "output_type": "stream",
     "text": [
      "Fri Jul  4 10:39:12 2025\n",
      "Timer has been stopped\n"
     ]
    }
   ],
   "source": [
    "show_time()"
   ]
  },
  {
   "cell_type": "code",
   "execution_count": null,
   "id": "941ba3fb-fce8-4566-8008-a021accef1f3",
   "metadata": {},
   "outputs": [],
   "source": []
  },
  {
   "cell_type": "code",
   "execution_count": null,
   "id": "8c1fdfc3-6118-41dc-bf57-23720aac6f9d",
   "metadata": {},
   "outputs": [],
   "source": []
  },
  {
   "cell_type": "code",
   "execution_count": null,
   "id": "2ab2acf5-0aee-4904-b0d3-c4e61b777ab7",
   "metadata": {},
   "outputs": [],
   "source": []
  },
  {
   "cell_type": "code",
   "execution_count": null,
   "id": "07429274-b488-4239-8f34-892baeb1c7e8",
   "metadata": {},
   "outputs": [],
   "source": []
  },
  {
   "cell_type": "code",
   "execution_count": 4,
   "id": "f86b82a4-d3db-483d-9ce5-668c4db35aaf",
   "metadata": {},
   "outputs": [
    {
     "name": "stdout",
     "output_type": "stream",
     "text": [
      "done\n"
     ]
    }
   ],
   "source": [
    "import AKUL as a\n",
    "print('done')"
   ]
  },
  {
   "cell_type": "code",
   "execution_count": 6,
   "id": "50284a63-00d6-4c40-858d-4fefac13bcc0",
   "metadata": {},
   "outputs": [],
   "source": [
    "# import maths as m\n",
    "# import random as r\n",
    "\n"
   ]
  },
  {
   "cell_type": "code",
   "execution_count": 2,
   "id": "d213060a-4bb3-4a3c-9497-1882c237a2d5",
   "metadata": {},
   "outputs": [
    {
     "name": "stdout",
     "output_type": "stream",
     "text": [
      "This is Akul Module in Python\n",
      "Info: https://www.google.com/\n"
     ]
    }
   ],
   "source": [
    "import AKUL as a\n"
   ]
  },
  {
   "cell_type": "code",
   "execution_count": 3,
   "id": "08b07bd9-70ef-4f05-9f30-f61a1550cb79",
   "metadata": {},
   "outputs": [
    {
     "name": "stdout",
     "output_type": "stream",
     "text": [
      "* \n",
      "* * \n",
      "* * * \n",
      "* * * * \n",
      "* * * * * \n"
     ]
    }
   ],
   "source": [
    "a.print_star(n=5)"
   ]
  },
  {
   "cell_type": "code",
   "execution_count": 5,
   "id": "33ea42be-0423-457a-9115-a35c017d0147",
   "metadata": {},
   "outputs": [
    {
     "data": {
      "text/plain": [
       "'Not a Palindrome'"
      ]
     },
     "execution_count": 5,
     "metadata": {},
     "output_type": "execute_result"
    }
   ],
   "source": [
    "a.check_palindrome('ram')"
   ]
  },
  {
   "cell_type": "code",
   "execution_count": 6,
   "id": "dd3182ac-169a-4a52-8dcb-4727c71ba05d",
   "metadata": {},
   "outputs": [
    {
     "data": {
      "text/plain": [
       "'not a prime number'"
      ]
     },
     "execution_count": 6,
     "metadata": {},
     "output_type": "execute_result"
    }
   ],
   "source": [
    "a.check_prime(2345)"
   ]
  },
  {
   "cell_type": "code",
   "execution_count": 9,
   "id": "6fa7c830-58f8-4398-bb64-19b4ec925f7b",
   "metadata": {},
   "outputs": [
    {
     "data": {
      "text/plain": [
       "3314240134565353266999387579130131288000666286242049487118846032383059131291716864129885722968716753156177920000000000000000000"
      ]
     },
     "execution_count": 9,
     "metadata": {},
     "output_type": "execute_result"
    }
   ],
   "source": [
    "a.factorial(84)"
   ]
  },
  {
   "cell_type": "code",
   "execution_count": 12,
   "id": "d232fbf2-24c0-4a05-8718-1d09ec3c7227",
   "metadata": {},
   "outputs": [
    {
     "data": {
      "text/plain": [
       "[0, 1, 1, 2, 3, 5, 8, 13, 21, 34, 55, 89, 144, 233, 377, 610]"
      ]
     },
     "execution_count": 12,
     "metadata": {},
     "output_type": "execute_result"
    }
   ],
   "source": [
    "a.give_fibo(16)"
   ]
  },
  {
   "cell_type": "code",
   "execution_count": 26,
   "id": "1bcc9c49-d53e-4ce5-b7ff-f1374049b7ad",
   "metadata": {},
   "outputs": [
    {
     "data": {
      "text/html": [
       "<div>\n",
       "<style scoped>\n",
       "    .dataframe tbody tr th:only-of-type {\n",
       "        vertical-align: middle;\n",
       "    }\n",
       "\n",
       "    .dataframe tbody tr th {\n",
       "        vertical-align: top;\n",
       "    }\n",
       "\n",
       "    .dataframe thead th {\n",
       "        text-align: right;\n",
       "    }\n",
       "</style>\n",
       "<table border=\"1\" class=\"dataframe\">\n",
       "  <thead>\n",
       "    <tr style=\"text-align: right;\">\n",
       "      <th></th>\n",
       "      <th>Name</th>\n",
       "      <th>Age</th>\n",
       "      <th>Add</th>\n",
       "    </tr>\n",
       "  </thead>\n",
       "  <tbody>\n",
       "    <tr>\n",
       "      <th>1</th>\n",
       "      <td>ABC</td>\n",
       "      <td>23</td>\n",
       "      <td>Delhi</td>\n",
       "    </tr>\n",
       "    <tr>\n",
       "      <th>2</th>\n",
       "      <td>DEF</td>\n",
       "      <td>35</td>\n",
       "      <td>Noida</td>\n",
       "    </tr>\n",
       "    <tr>\n",
       "      <th>3</th>\n",
       "      <td>GHI</td>\n",
       "      <td>87</td>\n",
       "      <td>Gr Noida</td>\n",
       "    </tr>\n",
       "  </tbody>\n",
       "</table>\n",
       "</div>"
      ],
      "text/plain": [
       "  Name  Age       Add\n",
       "1  ABC   23     Delhi\n",
       "2  DEF   35     Noida\n",
       "3  GHI   87  Gr Noida"
      ]
     },
     "execution_count": 26,
     "metadata": {},
     "output_type": "execute_result"
    }
   ],
   "source": [
    "a.student_record(Name = ['ABC','DEF','GHI'],\n",
    "                 Age = [23,35,87],\n",
    "                 Add = ['Delhi','Noida','Gr Noida'])"
   ]
  },
  {
   "cell_type": "code",
   "execution_count": 27,
   "id": "3f5909c7-0b60-409e-bb41-5bcc30aaa875",
   "metadata": {},
   "outputs": [
    {
     "name": "stdout",
     "output_type": "stream",
     "text": [
      "done\n"
     ]
    }
   ],
   "source": [
    "from AKUL import *\n",
    "print('done')\n"
   ]
  },
  {
   "cell_type": "code",
   "execution_count": 29,
   "id": "5e9b0c73-d7b9-4dc4-8c0d-11a2b5228ae9",
   "metadata": {},
   "outputs": [
    {
     "data": {
      "text/html": [
       "<div>\n",
       "<style scoped>\n",
       "    .dataframe tbody tr th:only-of-type {\n",
       "        vertical-align: middle;\n",
       "    }\n",
       "\n",
       "    .dataframe tbody tr th {\n",
       "        vertical-align: top;\n",
       "    }\n",
       "\n",
       "    .dataframe thead th {\n",
       "        text-align: right;\n",
       "    }\n",
       "</style>\n",
       "<table border=\"1\" class=\"dataframe\">\n",
       "  <thead>\n",
       "    <tr style=\"text-align: right;\">\n",
       "      <th></th>\n",
       "      <th>name</th>\n",
       "      <th>age</th>\n",
       "    </tr>\n",
       "  </thead>\n",
       "  <tbody>\n",
       "    <tr>\n",
       "      <th>1</th>\n",
       "      <td>akul</td>\n",
       "      <td>20</td>\n",
       "    </tr>\n",
       "  </tbody>\n",
       "</table>\n",
       "</div>"
      ],
      "text/plain": [
       "   name  age\n",
       "1  akul   20"
      ]
     },
     "execution_count": 29,
     "metadata": {},
     "output_type": "execute_result"
    }
   ],
   "source": [
    "student_record(name ='akul', age = 20)"
   ]
  },
  {
   "cell_type": "code",
   "execution_count": 31,
   "id": "bde36ec3-8704-4ea0-a72c-b94db4e07564",
   "metadata": {},
   "outputs": [
    {
     "data": {
      "text/plain": [
       "276"
      ]
     },
     "execution_count": 31,
     "metadata": {},
     "output_type": "execute_result"
    }
   ],
   "source": [
    "sum_of_n_natural_num(23)"
   ]
  },
  {
   "cell_type": "code",
   "execution_count": 33,
   "id": "04a879ee-5ee6-4433-bab6-1fc1fe5a54ae",
   "metadata": {},
   "outputs": [
    {
     "name": "stdout",
     "output_type": "stream",
     "text": [
      "Fri Jul  4 13:06:29 2025\n",
      "Timer has been stopped\n"
     ]
    }
   ],
   "source": [
    "show_time()"
   ]
  },
  {
   "cell_type": "code",
   "execution_count": null,
   "id": "d696052b-c3c9-4783-819b-4979dc148f52",
   "metadata": {},
   "outputs": [],
   "source": [
    "import turtle\n",
    "print('done')"
   ]
  },
  {
   "cell_type": "code",
   "execution_count": 5,
   "id": "15c06edc-b6b9-44b8-a8cd-7c5a41d2487d",
   "metadata": {},
   "outputs": [],
   "source": [
    "import turtle\n",
    "for i in range(120):\n",
    "    turtle.speed(0)\n",
    "    turtle.bgcolor('black')\n",
    "    col = ['yellow','green','red','orange','blue']\n",
    "    import random\n",
    "    picked_color = random.choice(col)\n",
    "    turtle.color(picked_color)\n",
    "    turtle.circle(100)\n",
    "    turtle.left(3)\n",
    "    "
   ]
  },
  {
   "cell_type": "code",
   "execution_count": 1,
   "id": "c1dabc60-4841-4c63-ab19-a2af1574b35e",
   "metadata": {},
   "outputs": [],
   "source": [
    "# left(60)=hexanal\n",
    "# left(120)=triangle\n",
    "\n",
    "import turtle\n",
    "for i in range(3):\n",
    "    turtle.bgcolor('black')\n",
    "    turtle.color('cyan')\n",
    "    turtle.forward(100)\n",
    "    turtle.left(60)"
   ]
  },
  {
   "cell_type": "code",
   "execution_count": null,
   "id": "6807fdd0-54b2-4404-a391-ee41e6aa1946",
   "metadata": {},
   "outputs": [],
   "source": [
    "# Types of File:-"
   ]
  },
  {
   "cell_type": "code",
   "execution_count": 1,
   "id": "e48a137b-2eaf-450d-a136-e95b573c1da0",
   "metadata": {},
   "outputs": [],
   "source": [
    "#1:- Text File\n",
    "#eg of text file =  .py, .csv, .html, .css, .tsv, .java, .c++, .json, .js\n",
    "\n",
    "#2:- Binary File- jis file ko chalanee ke liye software ki zarorat pde woh binary file, like audio file which needs mp3 software \n",
    "# eg of binary file = .pdf, .mp3, .mp4, .jpeg, .xlsx, .zip, .dat, .tar\n"
   ]
  },
  {
   "cell_type": "code",
   "execution_count": 2,
   "id": "6825159d-0012-4b59-9f51-f05c0c3b899a",
   "metadata": {},
   "outputs": [],
   "source": [
    "#handling:- read, write, copy, append, delete, open, close"
   ]
  },
  {
   "cell_type": "code",
   "execution_count": null,
   "id": "6f967cc0-34fc-4158-842f-a4b6cc815d23",
   "metadata": {},
   "outputs": [],
   "source": []
  },
  {
   "cell_type": "code",
   "execution_count": null,
   "id": "5957508a-18a3-4a7f-a3ff-472bc104db36",
   "metadata": {},
   "outputs": [],
   "source": []
  },
  {
   "cell_type": "code",
   "execution_count": null,
   "id": "75b59faa-caeb-42cb-a785-4410154de4ac",
   "metadata": {},
   "outputs": [],
   "source": []
  },
  {
   "cell_type": "code",
   "execution_count": 3,
   "id": "414442a6-1637-4a36-84eb-019deb1560c8",
   "metadata": {},
   "outputs": [],
   "source": [
    "# context manager"
   ]
  },
  {
   "cell_type": "code",
   "execution_count": 21,
   "id": "e5ac1901-da66-46d1-9b8f-10b3e4167673",
   "metadata": {},
   "outputs": [
    {
     "name": "stdout",
     "output_type": "stream",
     "text": [
      "print('''This is Akul Module in Python\n",
      "Info: https://www.google.com/''')\n",
      "\n",
      "\n",
      "def check_palindrome(word\n"
     ]
    }
   ],
   "source": [
    "file = open('AKUL.py', mode ='r')\n",
    "print(file.read(100))\n",
    "file.close()"
   ]
  },
  {
   "cell_type": "code",
   "execution_count": 23,
   "id": "25474676-334b-44aa-b79f-198cef1c5e08",
   "metadata": {},
   "outputs": [
    {
     "name": "stdout",
     "output_type": "stream",
     "text": [
      "p\n"
     ]
    }
   ],
   "source": [
    "file = open('AKUL.py', mode ='r')\n",
    "print(file.read(1))\n",
    "file.close()"
   ]
  },
  {
   "cell_type": "code",
   "execution_count": 27,
   "id": "d2f7b44c-2bb5-46fa-9896-2825f76f7d9f",
   "metadata": {},
   "outputs": [
    {
     "name": "stdout",
     "output_type": "stream",
     "text": [
      "1790373047600\n",
      "1790373047600\n",
      "1790373047600\n"
     ]
    }
   ],
   "source": [
    "a = 'ajay'\n",
    "b = 'ajay'\n",
    "C = 'ajay'\n",
    "print (id(a))\n",
    "print (id(b))\n",
    "print (id(b))\n",
    "\n",
    "#python is a garbage collector. "
   ]
  },
  {
   "cell_type": "code",
   "execution_count": 30,
   "id": "92e1a2ae-558d-419f-b8a3-8a51e36137d5",
   "metadata": {},
   "outputs": [],
   "source": [
    "f = open('AKUL.py', mode = 'r')"
   ]
  },
  {
   "cell_type": "code",
   "execution_count": 40,
   "id": "b5eee987-6b9b-47cd-8ab5-6f087d8ff8cf",
   "metadata": {},
   "outputs": [
    {
     "name": "stdout",
     "output_type": "stream",
     "text": [
      "        if word == word[::-1]:\n",
      "\n"
     ]
    }
   ],
   "source": [
    "print(f.readline())"
   ]
  },
  {
   "cell_type": "code",
   "execution_count": 42,
   "id": "036fc318-7195-4fee-bdae-56072911fa33",
   "metadata": {},
   "outputs": [
    {
     "name": "stdout",
     "output_type": "stream",
     "text": [
      "done\n"
     ]
    }
   ],
   "source": [
    "f.close()\n",
    "print('done')"
   ]
  },
  {
   "cell_type": "code",
   "execution_count": 43,
   "id": "04b5590b-9586-4a7a-b0f1-973ab12a57fe",
   "metadata": {},
   "outputs": [],
   "source": [
    "f = open('AKUL.py', mode = 'r')"
   ]
  },
  {
   "cell_type": "code",
   "execution_count": 47,
   "id": "13fa9dec-bd1c-4407-bf56-b8906677c551",
   "metadata": {},
   "outputs": [
    {
     "name": "stdout",
     "output_type": "stream",
     "text": [
      "        fibo.append(next_num)\n",
      "\n",
      "    return fibo\n",
      "\n",
      "\n",
      "\n",
      "def check_prime(number):\n",
      "\n",
      "    for i in range(2,number):\n",
      "\n"
     ]
    }
   ],
   "source": [
    "for i in range(5):\n",
    "    print(f.readline())"
   ]
  },
  {
   "cell_type": "code",
   "execution_count": 49,
   "id": "685ba875-a80b-4e05-8b25-223890cee546",
   "metadata": {},
   "outputs": [],
   "source": [
    "f.close()"
   ]
  },
  {
   "cell_type": "code",
   "execution_count": 52,
   "id": "d9f4536d-3d0a-473f-bd2e-e083699a150d",
   "metadata": {},
   "outputs": [
    {
     "name": "stdout",
     "output_type": "stream",
     "text": [
      "        if word == word[::-1]:\n",
      "\n"
     ]
    }
   ],
   "source": [
    "f = open('AKUL.py', mode = 'r')\n",
    "for i in range(10):\n",
    "    if i == 7: #line no.8\n",
    "        print(f.readline())\n",
    "    else:\n",
    "        f.readline()"
   ]
  },
  {
   "cell_type": "code",
   "execution_count": 55,
   "id": "8cb5dd4e-07e5-44b2-9817-dcb1edf94a07",
   "metadata": {},
   "outputs": [],
   "source": [
    "f.close()"
   ]
  },
  {
   "cell_type": "code",
   "execution_count": 57,
   "id": "f11cab4d-a1ea-4b39-beb2-75a393e5b300",
   "metadata": {},
   "outputs": [
    {
     "name": "stdout",
     "output_type": "stream",
     "text": [
      "done\n"
     ]
    }
   ],
   "source": [
    "f = open('AKUL.py', mode = 'r')\n",
    "\n",
    "\n",
    "data = f.readlines()\n",
    "\n",
    "f.close()\n",
    "print('done')"
   ]
  },
  {
   "cell_type": "code",
   "execution_count": 72,
   "id": "8b777599-3468-491d-94e2-d4bc2f86784f",
   "metadata": {},
   "outputs": [
    {
     "name": "stdout",
     "output_type": "stream",
     "text": [
      "[\"print('''This is Akul Module in Python\\n\", \"Info: https://www.google.com/''')\\n\", '\\n', '\\n', 'def check_palindrome(word:str):\\n', '    if type(word) == str:\\n', '        word = word.upper()\\n', '        if word == word[::-1]:\\n', \"            return 'Palindrome'\\n\", '        else:\\n', \"            return 'Not a Palindrome'\\n\", '    else:\\n', \"        return 'invalid data type'\\n\", '\\n', 'def give_fibo(n):\\n', '    fibo = [0,1]\\n', '    for i in range(n-2):\\n', '        last_num = fibo[-1]\\n', '        second_last_num = fibo[-2]\\n', '        next_num = last_num + second_last_num\\n', '        fibo.append(next_num)\\n', '    return fibo\\n', '\\n', 'def check_prime(number):\\n', '    for i in range(2,number):\\n', '        if number % i == 0:\\n', \"            return 'not a prime number'\\n\", '            break\\n', '    else:\\n', \"        return 'prime number'\\n\", '\\n', '\\n', '\\n', '\\n', \"def print_star(n = 5, typ = 'left', shape = '*'):\\n\", \"    if typ == 'left':\\n\", \"        space = ''\\n\", \"    elif typ == 'mid':\\n\", \"        space = ' '\\n\", \"    elif typ == 'right':\\n\", \"        space = '  '\\n\", '    for i in range(1,n+1):\\n', \"        print(space*(n-i) + i*f'{shape} ')\\n\", '\\n', '\\n', 'def sum_of_n_natural_num(n):\\n', '     result = 0\\n', '     for i in range(1,n+1):\\n', '         result += i\\n', '     return result\\n', '\\n', '\\n', 'def factorial(n):\\n', '     result = 1\\n', '     for i in range(1,n+1):\\n', '         result *= i\\n', '     return result \\n', '    \\n', '\\n', 'def total_sales(*args):\\n', '    #unpacking\\n', '    result = 0 \\n', '    for i in args:\\n', '        result +=i\\n', '    return result \\n', '    \\n', '\\n', 'def minn_num(sales):\\n', '    sales = [1232434978,9098,142,57,80886,9,56,4738,6742,92480,4820,9724,2728,72479]\\n', '    min_element = sales[0]\\n', '    for i in sales[1:]:\\n', '        if i < min_element:\\n', '            min_element = i\\n', '    print(min_element)\\n', '    \\n', '\\n', 'def max_element(*data):\\n', '    \\n', '    max_element = data[0]\\n', '    for i in data[1:]:\\n', '         if i > max_element:\\n', '            max_element = i\\n', '    return max_element\\n', '\\n', '\\n', '\\n', '\\n', '\\n', 'def student_record(**kwargs):\\n', '    import pandas as pd\\n', '    import numpy as np\\n', '    try: \\n', '        data = pd.DataFrame(kwargs)\\n', '        data.index = np.arange(1, len(data) + 1)\\n', '        return data \\n', '    except:\\n', '        data = pd.DataFrame(kwargs,index =[1])\\n', '        return data\\n', '\\n', '\\n', '        \\n', '\\n', 'def show_time():\\n', '    try:\\n', '        while True:\\n', '            import time\\n', '            print(time.asctime())\\n', '            time.sleep(1)\\n', '            display(clear = True)\\n', '    except:\\n', \"        print('Timer has been stopped')\\n\", '\\n']\n"
     ]
    }
   ],
   "source": [
    "print(data)"
   ]
  },
  {
   "cell_type": "code",
   "execution_count": 61,
   "id": "8dcbe212-a202-43a6-aba4-e083e0d7e1db",
   "metadata": {},
   "outputs": [
    {
     "data": {
      "text/plain": [
       "'        if word == word[::-1]:\\n'"
      ]
     },
     "execution_count": 61,
     "metadata": {},
     "output_type": "execute_result"
    }
   ],
   "source": [
    "data[7]"
   ]
  },
  {
   "cell_type": "code",
   "execution_count": 63,
   "id": "1cb39ae7-9fad-40c7-adfc-2bcbbcf1bf70",
   "metadata": {},
   "outputs": [
    {
     "data": {
      "text/plain": [
       "\"            return 'Not a Palindrome'\\n\""
      ]
     },
     "execution_count": 63,
     "metadata": {},
     "output_type": "execute_result"
    }
   ],
   "source": [
    "data[10]"
   ]
  },
  {
   "cell_type": "code",
   "execution_count": 65,
   "id": "4d28a485-c746-4bbf-9523-e1d18fc30a9c",
   "metadata": {},
   "outputs": [
    {
     "name": "stdout",
     "output_type": "stream",
     "text": [
      "            return 'Not a Palindrome'\n",
      "\n"
     ]
    }
   ],
   "source": [
    "print(data[10])"
   ]
  },
  {
   "cell_type": "code",
   "execution_count": 67,
   "id": "f33d423b-c418-4c7a-84fd-79e692ac64e3",
   "metadata": {},
   "outputs": [
    {
     "name": "stdout",
     "output_type": "stream",
     "text": [
      "[\"            return 'Not a Palindrome'\\n\", '    else:\\n', \"        return 'invalid data type'\\n\", '\\n', 'def give_fibo(n):\\n', '    fibo = [0,1]\\n', '    for i in range(n-2):\\n', '        last_num = fibo[-1]\\n', '        second_last_num = fibo[-2]\\n', '        next_num = last_num + second_last_num\\n', '        fibo.append(next_num)\\n', '    return fibo\\n', '\\n', 'def check_prime(number):\\n', '    for i in range(2,number):\\n', '        if number % i == 0:\\n', \"            return 'not a prime number'\\n\", '            break\\n']\n"
     ]
    }
   ],
   "source": [
    "print(data[10:28])"
   ]
  },
  {
   "cell_type": "code",
   "execution_count": 69,
   "id": "69d6fd2c-1f42-4181-821a-5f2f7e745a83",
   "metadata": {},
   "outputs": [
    {
     "name": "stdout",
     "output_type": "stream",
     "text": [
      "            return 'Not a Palindrome'\n",
      "\n",
      "    else:\n",
      "\n",
      "        return 'invalid data type'\n",
      "\n",
      "\n",
      "\n",
      "def give_fibo(n):\n",
      "\n",
      "    fibo = [0,1]\n",
      "\n",
      "    for i in range(n-2):\n",
      "\n",
      "        last_num = fibo[-1]\n",
      "\n",
      "        second_last_num = fibo[-2]\n",
      "\n",
      "        next_num = last_num + second_last_num\n",
      "\n",
      "        fibo.append(next_num)\n",
      "\n",
      "    return fibo\n",
      "\n",
      "\n",
      "\n",
      "def check_prime(number):\n",
      "\n",
      "    for i in range(2,number):\n",
      "\n",
      "        if number % i == 0:\n",
      "\n",
      "            return 'not a prime number'\n",
      "\n",
      "            break\n",
      "\n",
      "    else:\n",
      "\n",
      "        return 'prime number'\n",
      "\n",
      "\n",
      "\n"
     ]
    }
   ],
   "source": [
    "for i in data[10:31]:\n",
    "    print(i)"
   ]
  },
  {
   "cell_type": "code",
   "execution_count": 71,
   "id": "5fc09a14-19c9-431f-adfa-17ad358ec81b",
   "metadata": {},
   "outputs": [
    {
     "name": "stdout",
     "output_type": "stream",
     "text": [
      "print('''This is Akul Module in Python\n",
      "\n",
      "Info: https://www.google.com/''')\n",
      "\n",
      "\n",
      "\n",
      "\n",
      "\n",
      "def check_palindrome(word:str):\n",
      "\n",
      "    if type(word) == str:\n",
      "\n",
      "        word = word.upper()\n",
      "\n",
      "        if word == word[::-1]:\n",
      "\n",
      "            return 'Palindrome'\n",
      "\n",
      "        else:\n",
      "\n",
      "            return 'Not a Palindrome'\n",
      "\n",
      "    else:\n",
      "\n",
      "        return 'invalid data type'\n",
      "\n",
      "\n",
      "\n",
      "def give_fibo(n):\n",
      "\n",
      "    fibo = [0,1]\n",
      "\n"
     ]
    }
   ],
   "source": [
    "for i in data[0:16]:\n",
    "    print(i)"
   ]
  },
  {
   "cell_type": "code",
   "execution_count": null,
   "id": "5beef744-acd4-412e-b75e-605fb880d2f4",
   "metadata": {},
   "outputs": [],
   "source": []
  },
  {
   "cell_type": "code",
   "execution_count": null,
   "id": "aef961df-1056-4c32-afa5-12b91dc60c4f",
   "metadata": {},
   "outputs": [],
   "source": []
  },
  {
   "cell_type": "code",
   "execution_count": null,
   "id": "e15dd669-fbf8-4b53-abc9-d8eec6bba533",
   "metadata": {},
   "outputs": [],
   "source": []
  }
 ],
 "metadata": {
  "kernelspec": {
   "display_name": "Python [conda env:base] *",
   "language": "python",
   "name": "conda-base-py"
  },
  "language_info": {
   "codemirror_mode": {
    "name": "ipython",
    "version": 3
   },
   "file_extension": ".py",
   "mimetype": "text/x-python",
   "name": "python",
   "nbconvert_exporter": "python",
   "pygments_lexer": "ipython3",
   "version": "3.13.5"
  }
 },
 "nbformat": 4,
 "nbformat_minor": 5
}
